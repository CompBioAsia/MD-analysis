{
 "cells": [
  {
   "cell_type": "markdown",
   "id": "f9f86446-e8a3-48b5-9fcb-a7be76ce621d",
   "metadata": {},
   "source": [
    "# Analysis of MD Data with MDTraj\n",
    "\n",
    "You have already made use of the Python package MDTraj when you did the MD prearation workshop earlier in the week. Here you take a slightly deeper dive into it, so you can see how it can be used to analyse simulation data.\n",
    "\n",
    "Start by importing the required packages:"
   ]
  },
  {
   "cell_type": "code",
   "execution_count": null,
   "id": "7679adfd-9668-41b6-8ca7-e9d8f0e94a74",
   "metadata": {},
   "outputs": [],
   "source": [
    "import mdtraj as mdt\n",
    "from matplotlib import pyplot as plt\n",
    "import nglview as nv"
   ]
  },
  {
   "cell_type": "markdown",
   "id": "422b96c3-4d37-44db-aea3-9bc8144372bd",
   "metadata": {},
   "source": [
    "Now load the 50ns trajectory file:"
   ]
  },
  {
   "cell_type": "code",
   "execution_count": null,
   "id": "586696bb-40d8-4948-a7c2-fb88fdb9931a",
   "metadata": {},
   "outputs": [],
   "source": [
    "traj = mdt.load('/data/abl-ligand-md.nc', top='../MD-Analysis/abl_ligand.prmtop')"
   ]
  },
  {
   "cell_type": "markdown",
   "id": "a5f215b2-6d8a-4c3f-b73b-7a0a46dc8b7d",
   "metadata": {},
   "source": [
    "`traj` is our trajectory as an instance of an `MDTrajectory`. It has some useful attributes and methods, a very few of which we will explore here.\n",
    "\n",
    "First you can find out a little about what it represents by `print`ing i:"
   ]
  },
  {
   "cell_type": "code",
   "execution_count": null,
   "id": "d087d8cf-f9ff-45c8-9fe7-6d77a5be208c",
   "metadata": {},
   "outputs": [],
   "source": [
    "print(t)"
   ]
  },
  {
   "cell_type": "markdown",
   "id": "76fab161-9ca5-4bf1-a981-4dda7bf664d0",
   "metadata": {},
   "source": [
    "It contains a `topolgy` object, that describes aspects of the system that are time-invariant:"
   ]
  },
  {
   "cell_type": "code",
   "execution_count": null,
   "id": "7b44fa62-30b2-45f3-8592-4827b4f5b4ce",
   "metadata": {},
   "outputs": [],
   "source": [
    "print(t.topology)"
   ]
  },
  {
   "cell_type": "markdown",
   "id": "a35cf675-72c7-4843-a19c-b9b04e3e3d01",
   "metadata": {},
   "source": [
    "`MDTraj` has many simulation analysis methods let's start by lookling at RMSD calculation. We calculate the rmsd relative to the structure in the first frame of the trajectory. Notice how we use the simulation time, stored in the `traj` object, to scale our x-axis:"
   ]
  },
  {
   "cell_type": "code",
   "execution_count": null,
   "id": "e2c40489-c39c-4ae5-a8c9-63211b4e77d7",
   "metadata": {},
   "outputs": [],
   "source": [
    "rmsd = mdt.rmsd(t, t[0])\n",
    "plt.plot(t.time, rmsd)\n",
    "plt.xlabel('time (ps)')\n",
    "plt.ylabel('RMSD (nm)')"
   ]
  },
  {
   "cell_type": "markdown",
   "id": "83477ff9-0bd2-4452-8f7b-c98dab8c0647",
   "metadata": {},
   "source": [
    "Does this look odd to you? It's because we have calculated the RMSD over ALL atoms in each frame of the trajectory, so that includes the water molecules - not what we want!\n",
    "\n",
    "MDTraj has a special syntax to allow you to make selections of subsets of the atoms to do calculations on. See [here](https://mdtraj.readthedocs.io/en/latest/atom_selection.html) for details. Here we do the RMSD considering just protein C-alpha atoms:"
   ]
  },
  {
   "cell_type": "code",
   "execution_count": null,
   "id": "2c3ea3f3-e2c6-4649-bedd-e50ec4b63ffa",
   "metadata": {},
   "outputs": [],
   "source": [
    "ca_atoms = t.topology.select('name CA')\n",
    "rmsd_ca = mdt.rmsd(t, t[0], atom_indices=ca_atoms)\n",
    "plt.plot(t.time, rmsd_ca)\n",
    "plt.xlabel('time (ps)')\n",
    "plt.ylabel('RMSD (nm)')"
   ]
  },
  {
   "cell_type": "markdown",
   "id": "dbc5b8b2-e01f-4438-bd81-e258522386c3",
   "metadata": {},
   "source": [
    "Now let's look at the ligand:"
   ]
  },
  {
   "cell_type": "code",
   "execution_count": null,
   "id": "1cf4f80b-1b62-40dc-923a-2124fae0d09b",
   "metadata": {},
   "outputs": [],
   "source": [
    "ligand_atoms = t.topology.select('resname UNL')\n",
    "rmsd_lig = mdt.rmsd(t, t[0], atom_indices=ligand_atoms)\n",
    "plt.plot(t.time, rmsd_lig)"
   ]
  },
  {
   "cell_type": "markdown",
   "id": "233575db-6204-445d-8f9a-771956e4e893",
   "metadata": {},
   "source": [
    "It looks like something is going on - what? Lets visualize the trajectory. Before doing this, we will create a new trajectory file, containing just ligand atoms:"
   ]
  },
  {
   "cell_type": "code",
   "execution_count": null,
   "id": "7eaa9696-a1d1-410b-a035-535faf820f96",
   "metadata": {},
   "outputs": [],
   "source": [
    "ligand_traj = t.atom_slice(ligand_atoms)\n",
    "view = nv.show_mdtraj(ligand_traj)\n",
    "view"
   ]
  },
  {
   "cell_type": "markdown",
   "id": "83abfa49-5c3f-4812-b019-29836880aeb2",
   "metadata": {},
   "source": [
    "It's a little hard to se what's going on here because the ligand is shifting around. This global rotation and translation is not so interesting, we can remove it by superimposing every snapshot on the first:"
   ]
  },
  {
   "cell_type": "code",
   "execution_count": null,
   "id": "43bc860f-7c7c-4f49-9783-635e1ebe56cd",
   "metadata": {},
   "outputs": [],
   "source": [
    "ligand_traj.superpose(ligand_traj[0])\n",
    "view = nv.show_mdtraj(ligand_traj)\n",
    "view"
   ]
  },
  {
   "cell_type": "markdown",
   "id": "0ef98f4b-9399-4176-b0e4-32d20b476cb6",
   "metadata": {},
   "source": [
    "Now its a bit easier to se what's going on, but not super-obvious. Time for some measurments. We will calculate the distance between the N atom in the pyridine ring ('N1') and the terminal N atom in the piperidine ring ('N51'):"
   ]
  },
  {
   "cell_type": "code",
   "execution_count": null,
   "id": "c0ec70db-7294-4229-b6c3-188a2ab69c27",
   "metadata": {},
   "outputs": [],
   "source": [
    "atom_pair = ligand_traj.topology.select('name N1 or name N51')\n",
    "n1_n51_distance = mdt.compute_distances(ligand_traj, [atom_pair])\n",
    "plt.plot(ligand_traj.time, n1_n51_distance)"
   ]
  },
  {
   "cell_type": "markdown",
   "id": "74ad52ac-b8b4-4a65-8e6c-e5e3197f0b46",
   "metadata": {},
   "source": [
    "We can clearly see a major 'jump' in the distance around 33 nanoseconds, i.e. a major change in the conformation of the ligand (despite the fact that it is bound to the protein)\n",
    "\n",
    "You could now look into this is much more detail - but that's enough for now."
   ]
  },
  {
   "cell_type": "code",
   "execution_count": null,
   "id": "da71b458-1e08-42fb-be36-e37726ccdf3a",
   "metadata": {},
   "outputs": [],
   "source": []
  }
 ],
 "metadata": {
  "kernelspec": {
   "display_name": "Python 3 (ipykernel)",
   "language": "python",
   "name": "python3"
  },
  "language_info": {
   "codemirror_mode": {
    "name": "ipython",
    "version": 3
   },
   "file_extension": ".py",
   "mimetype": "text/x-python",
   "name": "python",
   "nbconvert_exporter": "python",
   "pygments_lexer": "ipython3",
   "version": "3.12.10"
  }
 },
 "nbformat": 4,
 "nbformat_minor": 5
}
